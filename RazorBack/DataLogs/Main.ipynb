{
 "cells": [
  {
   "cell_type": "code",
   "execution_count": 2,
   "metadata": {},
   "outputs": [],
   "source": [
    "import pandas as pd\n",
    "import os\n",
    "from glob import glob\n",
    "import seaborn as sea\n",
    "import xml.etree.ElementTree as ET\n",
    "import matplotlib.pyplot as plt\n"
   ]
  },
  {
   "cell_type": "markdown",
   "metadata": {},
   "source": [
    "`# Instructions\n",
    "1. Create a new folder for your run. \n",
    "2. Before you drive, Save your VE table in that folder as 've.table'\n",
    "3. Log your run (in ASCII format) as \"log.msl\"\n",
    "4. Use thse functions to do things: \n",
    "    "
   ]
  },
  {
   "cell_type": "code",
   "execution_count": 3,
   "metadata": {},
   "outputs": [],
   "source": [
    "def get_file(filename):\n",
    "\n",
    "    with open(filename, errors = 'ignore') as f:\n",
    "        data = f.read()\n",
    "        \n",
    "    data = data.split('\\n')[2:]\n",
    "    data = '\\n'.join(data)\n",
    "    with open('temp.csv', 'w') as f:\n",
    "        f.write(data)\n",
    "        \n",
    "    data = pd.read_csv('temp.csv', sep = '\\t', low_memory=False)\n",
    "    dtypes = data.iloc[0]\n",
    "    data = data.iloc[1:]\n",
    "    \n",
    "    for column in data.columns:\n",
    "        try:\n",
    "            data[column] = pd.to_numeric(data[column])\n",
    "        except ValueError as e:\n",
    "            pass\n",
    "    \n",
    "    data['true_target']  = data['AFR 1 Target'] * (1 - (data[\"Fuel: Accel enrich\"]/100 - 1))\n",
    "    data['error'] = data['AFR']- data['true_target']\n",
    "    \n",
    "    return data\n"
   ]
  },
  {
   "cell_type": "code",
   "execution_count": 4,
   "metadata": {},
   "outputs": [],
   "source": [
    "def get_table(filename):\n",
    "    \n",
    "\n",
    "    tree = ET.parse(filename + '.table')\n",
    "    \n",
    "    \n",
    "    for thing in tree.getiterator():\n",
    "        if ('zValues' in thing.tag) and ('tableData' not in thing.tag):\n",
    "            raw_data = thing.text\n",
    "\n",
    "        if 'xAxis'in thing.tag:\n",
    "            x_axis = thing.text\n",
    "            x_axis = x_axis.strip().replace(' ', '').split('\\n')\n",
    "        if 'yAxis' in thing.tag:\n",
    "            y_axis = thing.text\n",
    "            y_axis = y_axis.strip().replace(' ', '').split('\\n')\n",
    "\n",
    "\n",
    "    rows = raw_data.strip().split('\\n')\n",
    "    raw_data_table = []\n",
    "\n",
    "    for row in rows:\n",
    "        vals = row.strip().split(' ')\n",
    "\n",
    "        raw_data_table.append([float(x) for x in vals])\n",
    "\n",
    "    data = pd.DataFrame(columns= [float(x) for x in x_axis], index= [float(y) for y in y_axis], data = raw_data_table )\n",
    "    \n",
    "    return data\n",
    "\n"
   ]
  },
  {
   "cell_type": "code",
   "execution_count": 5,
   "metadata": {},
   "outputs": [],
   "source": [
    "def get_success_rate(folder):\n",
    "    data = get_file(folder + '/log.msl')\n",
    "    ve = get_table(folder+ '/ve')\n",
    "    \n",
    "    states = []\n",
    "    for column in data.columns:\n",
    "        if 'engine' in column.lower() and column != 'Engine':\n",
    "            states.append(column)\n",
    "    \n",
    "    text= ['Positive is Lean, Negative is Rich']\n",
    "    for state in states:\n",
    "        temp = data[data[state] == 1]\n",
    "        avg_error = round(temp['error'].mean(),2)\n",
    "        samples = len(temp)\n",
    "        text.append(f\"Average Error: {avg_error} | samples: {samples} | {state}\")\n",
    "    \n",
    "    avg_error = round(data['error'].mean(),2)\n",
    "    text.append(f\"AVERAGE ERROR {avg_error}\")\n",
    "    text = '\\n'.join(text)\n",
    "\n",
    "    with open(folder+ '/stats.txt', 'w') as f:\n",
    "        f.write(text)\n",
    "        \n",
    "    cols_to_chart = []\n",
    "    for col in data.columns:\n",
    "        if 'fuel' in col.lower():\n",
    "            if 'cor' in col:\n",
    "                cols_to_chart.append(col)\n",
    "                \n",
    "    cols_to_chart.append(\"CLT\")\n",
    "    for col in cols_to_chart:\n",
    "        if len(data[col].value_counts())> 1:\n",
    "            fig, ax = plt.subplots()\n",
    "            fig.set_size_inches(8*1.3,8)\n",
    "            data.set_index('Time')[col].plot()\n",
    "            ax.set_title(col)\n",
    "            plt.savefig(folder + '/'+col + '.png', facecolor='w')\n",
    "            \n",
    "            plt.close()\n",
    "            \n",
    "    \n",
    "    return text\n",
    "\n"
   ]
  },
  {
   "cell_type": "code",
   "execution_count": 6,
   "metadata": {},
   "outputs": [],
   "source": [
    "def get_factor(data, ve, function): # FOR ALL CELLS IN VE TABLE, DO A FUNCTION TO THE DATA SUPPLIED\n",
    "    final = pd.DataFrame(index = ve.index, columns= ve.columns)\n",
    "    start_rpm = 0\n",
    "    \n",
    "    for end_rpm in ve.columns: # Iterate through each RPM group\n",
    "        start_load = 0\n",
    "        \n",
    "        for end_load in ve.index: # Iterate through each Load Group\n",
    "            \n",
    "            sample = data[(data['Load'] >= start_load) & (data['Load'] < end_load)]#Filter for Load\n",
    "            if len(sample) > 0:\n",
    "                sample = sample[(sample['RPM'] >= start_rpm) & (sample['RPM'] < end_rpm)] #Filter for RPM\n",
    "                if len(sample) > 0:\n",
    "                    result = function(sample)# Calculate on remaining data\n",
    "                    final.loc[end_load, end_rpm] = result #Save result on table\n",
    "            start_load = end_load #Move Load iterator forward\n",
    "        start_rpm = end_rpm#Move RPM iterator forward once every load iterator has been hit for that RPM.\n",
    "    return final"
   ]
  },
  {
   "cell_type": "code",
   "execution_count": 7,
   "metadata": {},
   "outputs": [],
   "source": [
    "\n",
    "def calculate_predicted_ve_table(samples, errors,ve, avg_tgt_afr,  min_samples):\n",
    "    # Remove Minimum Samples\n",
    "    sample_mask = samples.copy()\n",
    "    sample_mask[samples<= min_samples] = 0 \n",
    "    sample_mask[samples > min_samples] = 1\n",
    "    errors = errors * sample_mask\n",
    "\n",
    "\n",
    "    # Calculate PCT that everything is off\n",
    "    # errors are errors/avg_tgt to convert to pct. \n",
    "    # One is added so that we can multiply the ve table by it and scale it\n",
    "    # fillna is so that unknown values are kept the same as original ve table.\n",
    "    pred_ve = (1 + (errors/avg_tgt_afr) ).fillna(1) * ve\n",
    "    \n",
    "    # Clean up for paste to clipboard\n",
    "    pred_ve = pred_ve.sort_index(ascending = False).apply(lambda x: round(x,1))\n",
    "    print(\"RECCOMENDED VE TABLE ADDED TO CLIPBOARD\")\n",
    "    pred_ve.to_clipboard(index = False, header = False)\n",
    "    \n",
    "    # Return to regular ordering\n",
    "    pred_ve = pred_ve.sort_index()\n",
    "    return pred_ve"
   ]
  },
  {
   "cell_type": "code",
   "execution_count": 13,
   "metadata": {},
   "outputs": [],
   "source": [
    "data = get_file(folder + '/log.msl')"
   ]
  },
  {
   "cell_type": "code",
   "execution_count": 23,
   "metadata": {},
   "outputs": [
    {
     "data": {
      "text/plain": [
       "-0.0011588604538870198"
      ]
     },
     "execution_count": 23,
     "metadata": {},
     "output_type": "execute_result"
    }
   ],
   "source": [
    "(data[\"Load\"] - data['MAP']).mean()"
   ]
  },
  {
   "cell_type": "code",
   "execution_count": 8,
   "metadata": {},
   "outputs": [],
   "source": [
    "def get_suggestions_based_on(folder):\n",
    "    data = get_file(folder + '/log.msl')\n",
    "    ve = get_table(folder+ '/ve')\n",
    "    \n",
    "    # SPECIFIC FILTERS HERE - Use Drive Notes to determine________________________________________\n",
    "    data = data[data['CLT'] > 145] # Ensure car is warmed up - General \n",
    "    #data = data[(data[\"RPM\"] > 2000) | (data['Load'] > 45)] # Avoid messing with IDLE - General\n",
    "    #data = data[data['Engine in overrun'] != 1]  # Avoid  Overrun Tuning - General\n",
    "    data['error'] = data['error'] \n",
    "    ################################################################______________________________\n",
    "    \n",
    "    # Calculate mean error:\n",
    "    def get_avg_error(x):\n",
    "        return x['error'].mean() # Reduce IMpact of errors\n",
    "    errors = get_factor(data, ve, get_avg_error)\n",
    "    \n",
    "    #Scale errors by acceleration enrichment - \n",
    "    \n",
    "    #Calculate count of samples\n",
    "    samples = get_factor(data, ve, len)\n",
    "    \n",
    "    avg_tgt_afr = get_factor(data, ve, lambda x: x['AFR 1 Target'].mean()) # Errors are a pct of this.\n",
    "    pred_ve = calculate_predicted_ve_table(samples,\n",
    "                                           errors,\n",
    "                                           ve,\n",
    "                                           avg_tgt_afr,\n",
    "                                           min_samples=3)\n",
    "    \n",
    "    \n",
    "    ################ \n",
    "    return pred_ve\n",
    "\n",
    "    "
   ]
  },
  {
   "cell_type": "code",
   "execution_count": 9,
   "metadata": {},
   "outputs": [],
   "source": [
    "folder = 'oct_3'"
   ]
  },
  {
   "cell_type": "code",
   "execution_count": 10,
   "metadata": {
    "scrolled": true
   },
   "outputs": [
    {
     "name": "stdout",
     "output_type": "stream",
     "text": [
      "Positive is Lean, Negative is Rich\n",
      "Average Error: 1.16 | samples: 1034 | Engine in cruise state\n",
      "Average Error: 0.23 | samples: 494 | Engine accelerating slowly\n",
      "Average Error: 0.38 | samples: 683 | Engine decelerating slowly\n",
      "Average Error: 0.96 | samples: 657 | Engine in overrun\n",
      "Average Error: -0.29 | samples: 1473 | Engine idling\n",
      "Average Error: 0.35 | samples: 362 | Engine WOT\n",
      "AVERAGE ERROR 0.4\n"
     ]
    }
   ],
   "source": [
    "print(get_success_rate(folder))"
   ]
  },
  {
   "cell_type": "code",
   "execution_count": 11,
   "metadata": {},
   "outputs": [
    {
     "name": "stdout",
     "output_type": "stream",
     "text": [
      "RECCOMENDED VE TABLE ADDED TO CLIPBOARD\n"
     ]
    }
   ],
   "source": [
    "pred_ve = get_suggestions_based_on(folder)\n",
    "ve = get_table(folder + '/ve')\n",
    "\n",
    "\n",
    "change_map = (pred_ve - ve )/ve # As a percent of current position\n",
    "change_map = (change_map + 1) * 100 # Proper PCT\n",
    "change_map = change_map.sort_index(ascending= False)\n",
    "change_map = change_map.apply(lambda x: round(x, 2))"
   ]
  },
  {
   "cell_type": "code",
   "execution_count": 12,
   "metadata": {},
   "outputs": [
    {
     "data": {
      "image/png": "[encoded data removed]",
      "text/plain": [
       "<Figure size 748.8x576 with 2 Axes>"
      ]
     },
     "metadata": {
      "needs_background": "light"
     },
     "output_type": "display_data"
    }
   ],
   "source": [
    "\n",
    "fig, ax = plt.subplots()\n",
    "ax.set_title(\"Blue means adding more fuel, red means cutting fuel\")\n",
    "fig.set_size_inches(8*1.3, 8)\n",
    "sea.heatmap(change_map, center = 100, cmap='RdBu')\n",
    "ax.set_xlabel('RPM')\n",
    "ax.set_ylabel(\"Load\");\n",
    "plt.savefig(folder + '/change_pic.png', facecolor='w')\n",
    "            "
   ]
  },
  {
   "cell_type": "code",
   "execution_count": null,
   "metadata": {},
   "outputs": [],
   "source": []
  }
 ],
 "metadata": {
  "kernelspec": {
   "display_name": "Python 3",
   "language": "python",
   "name": "python3"
  },
  "language_info": {
   "codemirror_mode": {
    "name": "ipython",
    "version": 3
   },
   "file_extension": ".py",
   "mimetype": "text/x-python",
   "name": "python",
   "nbconvert_exporter": "python",
   "pygments_lexer": "ipython3",
   "version": "3.6.9"
  }
 },
 "nbformat": 4,
 "nbformat_minor": 2
}

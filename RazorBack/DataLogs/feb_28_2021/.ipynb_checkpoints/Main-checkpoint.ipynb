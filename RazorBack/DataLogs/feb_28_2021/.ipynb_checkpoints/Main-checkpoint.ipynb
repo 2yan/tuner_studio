{
 "cells": [
  {
   "cell_type": "code",
   "execution_count": 1,
   "metadata": {},
   "outputs": [],
   "source": [
    "import pandas as pd\n",
    "import os\n",
    "from glob import glob\n",
    "import seaborn as sea\n",
    "import xml.etree.ElementTree as ET\n",
    "import matplotlib.pyplot as plt\n"
   ]
  },
  {
   "cell_type": "markdown",
   "metadata": {},
   "source": [
    "`# Instructions\n",
    "1. Create a new folder for your run. \n",
    "2. Before you drive, Save your VE table in that folder as 've.table'\n",
    "3. Log your run (in ASCII format) as \"log.msl\"\n",
    "4. Use thse functions to do things: \n",
    "    "
   ]
  },
  {
   "cell_type": "code",
   "execution_count": 2,
   "metadata": {},
   "outputs": [],
   "source": [
    "def get_file(filename):\n",
    "\n",
    "    with open(filename, errors = 'ignore') as f:\n",
    "        data = f.read()\n",
    "        \n",
    "    data = data.split('\\n')[2:]\n",
    "    data = '\\n'.join(data)\n",
    "    with open('temp.csv', 'w') as f:\n",
    "        f.write(data)\n",
    "        \n",
    "    data = pd.read_csv('temp.csv', sep = '\\t', low_memory=False)\n",
    "    dtypes = data.iloc[0]\n",
    "    data = data.iloc[1:]\n",
    "    \n",
    "    for column in data.columns:\n",
    "        try:\n",
    "            data[column] = pd.to_numeric(data[column])\n",
    "        except ValueError as e:\n",
    "            pass\n",
    "    \n",
    "    data['true_target']  = data['AFR 1 Target'] * (1 - (data[\"Fuel: Accel enrich\"]/100 - 1))\n",
    "    data['error'] = data['AFR']- data['true_target']\n",
    "    \n",
    "    return data\n"
   ]
  },
  {
   "cell_type": "code",
   "execution_count": 3,
   "metadata": {},
   "outputs": [],
   "source": [
    "def get_table(filename):\n",
    "    \n",
    "\n",
    "    tree = ET.parse(filename + '.table')\n",
    "    \n",
    "    \n",
    "    for thing in tree.getiterator():\n",
    "        if ('zValues' in thing.tag) and ('tableData' not in thing.tag):\n",
    "            raw_data = thing.text\n",
    "\n",
    "        if 'xAxis'in thing.tag:\n",
    "            x_axis = thing.text\n",
    "            x_axis = x_axis.strip().replace(' ', '').split('\\n')\n",
    "        if 'yAxis' in thing.tag:\n",
    "            y_axis = thing.text\n",
    "            y_axis = y_axis.strip().replace(' ', '').split('\\n')\n",
    "\n",
    "\n",
    "    rows = raw_data.strip().split('\\n')\n",
    "    raw_data_table = []\n",
    "\n",
    "    for row in rows:\n",
    "        vals = row.strip().split(' ')\n",
    "\n",
    "        raw_data_table.append([float(x) for x in vals])\n",
    "\n",
    "    data = pd.DataFrame(columns= [float(x) for x in x_axis], index= [float(y) for y in y_axis], data = raw_data_table )\n",
    "    \n",
    "    return data\n",
    "\n"
   ]
  },
  {
   "cell_type": "code",
   "execution_count": 6,
   "metadata": {},
   "outputs": [],
   "source": [
    "data = get_file('log_b.msl')"
   ]
  },
  {
   "cell_type": "code",
   "execution_count": 7,
   "metadata": {},
   "outputs": [
    {
     "data": {
      "text/html": [
       "<div>\n",
       "<style scoped>\n",
       "    .dataframe tbody tr th:only-of-type {\n",
       "        vertical-align: middle;\n",
       "    }\n",
       "\n",
       "    .dataframe tbody tr th {\n",
       "        vertical-align: top;\n",
       "    }\n",
       "\n",
       "    .dataframe thead th {\n",
       "        text-align: right;\n",
       "    }\n",
       "</style>\n",
       "<table border=\"1\" class=\"dataframe\">\n",
       "  <thead>\n",
       "    <tr style=\"text-align: right;\">\n",
       "      <th></th>\n",
       "      <th>Time</th>\n",
       "      <th>SecL</th>\n",
       "      <th>RPM</th>\n",
       "      <th>MAP</th>\n",
       "      <th>Boost psi</th>\n",
       "      <th>TPS</th>\n",
       "      <th>TPSADC</th>\n",
       "      <th>MAF</th>\n",
       "      <th>MAFload</th>\n",
       "      <th>MAF volts</th>\n",
       "      <th>...</th>\n",
       "      <th>Fuel Flow lph</th>\n",
       "      <th>Gallons Used</th>\n",
       "      <th>Trip Meter Miles</th>\n",
       "      <th>Odometer Miles</th>\n",
       "      <th>Vehicle Speed</th>\n",
       "      <th>Power</th>\n",
       "      <th>Torque</th>\n",
       "      <th>Odometer_Miles</th>\n",
       "      <th>true_target</th>\n",
       "      <th>error</th>\n",
       "    </tr>\n",
       "  </thead>\n",
       "  <tbody>\n",
       "  </tbody>\n",
       "</table>\n",
       "<p>0 rows × 145 columns</p>\n",
       "</div>"
      ],
      "text/plain": [
       "Empty DataFrame\n",
       "Columns: [Time, SecL, RPM, MAP, Boost psi, TPS, TPSADC, MAF, MAFload, MAF volts, MAF Freq, AFR, MAT, CLT, Engine, Batt V, EGO cor1, Fuel: Air cor, Fuel: Warmup cor, Fuel: Baro cor, Fuel: Total cor, Fuel: Accel enrich, Fuel: Accel PW, VE1, PW, Duty Cycle1, VE2, PW2, Duty Cycle2, VE1 raw, VE2 raw, VE3 raw, VE4 raw, Seq PW1, Seq PW2, Seq PW3, Seq PW4, Seq PW5, Seq PW6, Seq PW7, Seq PW8, Seq PW9, Seq PW10, Seq PW11, Seq PW12, SPK: Spark Advance, SPK: Knock retard, Knock in, SPK: Cold advance, SPK: Traction retard, SPK: CEL retard, SPK: Fuel cut retard, SPK: External advance, SPK: Base Spark Advance, SPK: Idle Correction Advance, SPK: MAT Retard, SPK: Flex Advance, SPK: Spark Table 1, SPK: Spark Table 2, SPK: Spark Table 3, SPK: Spark Table 4, SPK: Revlim Retard, SPK: ALS Timing, SPK: Launch Timing, SPK: 3-step Timing, SPK: Launch VSS Retard, Dwell, Barometer, PWM Idle duty, Closed-loop idle target RPM, Closed-loop idle RPM error, AFR 1 Target, AFR 2 Target, AFR 1 Error, AFR 2 Error, TPSdot, MAPdot, RPMdot, Load, Secondary load, Ign load, Secondary ign load, AFR load, Injector timing pri, Injector timing sec, ECU Temperature, canin1_8, canout1_8, canout9_16, Timing err, Lost sync count, Lost sync reason, Fuel flow cc/min, VSS1, VSS1 ms-1, MPG(USA, MPG(UK, VSS1dot, Status1, Status2, ...]\n",
       "Index: []\n",
       "\n",
       "[0 rows x 145 columns]"
      ]
     },
     "execution_count": 7,
     "metadata": {},
     "output_type": "execute_result"
    }
   ],
   "source": [
    "data"
   ]
  },
  {
   "cell_type": "code",
   "execution_count": null,
   "metadata": {},
   "outputs": [],
   "source": []
  }
 ],
 "metadata": {
  "kernelspec": {
   "display_name": "Python 3",
   "language": "python",
   "name": "python3"
  },
  "language_info": {
   "codemirror_mode": {
    "name": "ipython",
    "version": 3
   },
   "file_extension": ".py",
   "mimetype": "text/x-python",
   "name": "python",
   "nbconvert_exporter": "python",
   "pygments_lexer": "ipython3",
   "version": "3.6.9"
  }
 },
 "nbformat": 4,
 "nbformat_minor": 2
}
